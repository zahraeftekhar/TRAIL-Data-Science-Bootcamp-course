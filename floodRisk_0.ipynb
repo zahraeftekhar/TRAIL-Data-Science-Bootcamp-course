{
 "cells": [
  {
   "cell_type": "markdown",
   "id": "a9c020e1",
   "metadata": {},
   "source": [
    "# finding high risk roads in Vietnam"
   ]
  },
  {
   "cell_type": "markdown",
   "id": "c6c4bdda",
   "metadata": {},
   "source": [
    "#### importing required packages"
   ]
  },
  {
   "cell_type": "code",
   "execution_count": 2,
   "id": "f26b559b",
   "metadata": {},
   "outputs": [],
   "source": [
    "import geopandas as gpd\n",
    "import rasterio\n",
    "from rasterio.plot import show\n",
    "import pandas as pd\n",
    "import numpy as np"
   ]
  },
  {
   "cell_type": "code",
   "execution_count": 2,
   "id": "a61524aa",
   "metadata": {},
   "outputs": [],
   "source": [
    "# this the address on my own system\n",
    "sl = \"C:/Users/zahraeftekhar/PycharmProjects/TRAIL-Data-Science-Bootcamp-course/Datasets/\"\n"
   ]
  },
  {
   "cell_type": "code",
   "execution_count": null,
   "id": "e236d034",
   "metadata": {},
   "outputs": [],
   "source": [
    "hospitals = gpd.read_file(\"Datasets/Hospitals_VNM.geojson\")\n",
    "Road = gpd.read_file(\"{a}Road_Network_VNM.geojson\".format(a=sl))\n",
    "Boundaries =gpd.read_file(\"{a}Vietnam_Administrative_Boundaries.geojson\".format(a=sl))\n",
    "# Boundaries.to_file(\"Datasets/Boundaries.shp\")"
   ]
  },
  {
   "cell_type": "code",
   "execution_count": 4,
   "id": "e58d5799",
   "metadata": {},
   "outputs": [
    {
     "data": {
      "text/plain": [
       "<Geographic 2D CRS: EPSG:4326>\n",
       "Name: WGS 84\n",
       "Axis Info [ellipsoidal]:\n",
       "- Lat[north]: Geodetic latitude (degree)\n",
       "- Lon[east]: Geodetic longitude (degree)\n",
       "Area of Use:\n",
       "- name: World.\n",
       "- bounds: (-180.0, -90.0, 180.0, 90.0)\n",
       "Datum: World Geodetic System 1984 ensemble\n",
       "- Ellipsoid: WGS 84\n",
       "- Prime Meridian: Greenwich"
      ]
     },
     "execution_count": 4,
     "metadata": {},
     "output_type": "execute_result"
    }
   ],
   "source": [
    "Boundaries.crs"
   ]
  },
  {
   "cell_type": "markdown",
   "id": "6ead9a22",
   "metadata": {},
   "source": [
    "### pre-processing the flood file"
   ]
  },
  {
   "cell_type": "markdown",
   "id": "ebfe5287",
   "metadata": {},
   "source": [
    "The flood file was in the format of `.tif` therefore we used arcGIS to first convert the file (raster) to polygons and then keep only the data inside the border of Vietnam. This was done using intersection analysis with the road network file. The output (`.SHP` file) is the input for the next step:"
   ]
  },
  {
   "cell_type": "markdown",
   "id": "5ea0519f",
   "metadata": {},
   "source": [
    "#### subsetting the roads with higher risk of flood"
   ]
  },
  {
   "cell_type": "markdown",
   "id": "acb89f6b",
   "metadata": {},
   "source": [
    "Now, we read the output of arcGIS as a geopandas dataframe. We only keep the links with the flood risk of 3,4, and 5 which are considered to be the highest flood risk. "
   ]
  },
  {
   "cell_type": "code",
   "execution_count": 19,
   "id": "56751203",
   "metadata": {},
   "outputs": [],
   "source": [
    "risk = gpd.read_file('Datasets/Flood Risk/riskRoad/riskRoad_1.shp')\n"
   ]
  },
  {
   "cell_type": "code",
   "execution_count": 21,
   "id": "38e0e804",
   "metadata": {},
   "outputs": [
    {
     "data": {
      "image/png": "[encoded data removed]",
      "text/plain": [
       "<Figure size 432x288 with 1 Axes>"
      ]
     },
     "metadata": {
      "needs_background": "light"
     },
     "output_type": "display_data"
    }
   ],
   "source": [
    "risk\n",
    "highRisk = risk[risk.gridcode>2]\n",
    "highRisk.plot()\n",
    "highRisk.to_file(\"flood_highrisk/flood_highrisk.shp\")"
   ]
  }
 ],
 "metadata": {
  "kernelspec": {
   "display_name": "ODmatrices",
   "language": "python",
   "name": "odmatrices"
  },
  "language_info": {
   "codemirror_mode": {
    "name": "ipython",
    "version": 3
   },
   "file_extension": ".py",
   "mimetype": "text/x-python",
   "name": "python",
   "nbconvert_exporter": "python",
   "pygments_lexer": "ipython3",
   "version": "3.8.12"
  }
 },
 "nbformat": 4,
 "nbformat_minor": 5
}
